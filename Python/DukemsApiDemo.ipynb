{
 "cells": [
  {
   "cell_type": "markdown",
   "id": "f384aed4-62da-403c-b326-00256fe6690a",
   "metadata": {
    "tags": []
   },
   "source": [
    "# Download emissions data using a UKEMS URL\n",
    "\n",
    "The UKEMS download page (https://dukems-app.datalabs.ceh.ac.uk/app/download) allows you to download emissions data and also  copy the download URL for your own use.  This URL specifies which pollutant you want, and also additional filters such as Snap Sector, region of interest and date range.  A full description is at https://dukems-app.datalabs.ceh.ac.uk/app/apihelp.\n",
    "\n",
    "This notebook shows how to use this URL to simply download the data and display it.  It doesn't necessarily demonstrate best practice, but is written to be simple and help you think about how you might automate and integrate it into your own code.\n"
   ]
  },
  {
   "cell_type": "markdown",
   "id": "b8283899-fd1a-41f2-98aa-296c5273c3cb",
   "metadata": {},
   "source": [
    "### Install dependencies and import libraries"
   ]
  },
  {
   "cell_type": "code",
   "execution_count": null,
   "id": "50127ec6-fca4-46c3-b5c3-ca76c9cf501f",
   "metadata": {},
   "outputs": [],
   "source": [
    "!pip install xarray\n",
    "!pip install netCDF4\n",
    "\n",
    "import requests\n",
    "import xarray as xr\n",
    "import matplotlib.pyplot as plt\n",
    "import io\n",
    "import re\n",
    "import os\n",
    "import warnings\n",
    "\n",
    "# For clarity, turn off warnings\n",
    "warnings.filterwarnings('ignore')"
   ]
  },
  {
   "cell_type": "markdown",
   "id": "1b4c2ba5-34b8-4b78-b900-d88fa4941f57",
   "metadata": {},
   "source": [
    "### Open emissions data using a UK-EMS URL\n",
    "\n",
    "A UK-EMS download URL can obtained from https://dukems-app.datalabs.ceh.ac.uk/app/download.  The following code block will prompt you for a URL and then save the data it references to a file using the name found in the request header and open it to display its metadata.\n",
    "\n",
    "Here is an example UK-EMS download URL: https://dukems-app.datalabs.ceh.ac.uk/api/download/dataset/5/7/0/0?startYear=2020&endYear=2030&y2=238954&y1=114353&x2=633171&x1=461485."
   ]
  },
  {
   "cell_type": "code",
   "execution_count": null,
   "id": "770e7b0a-1853-4645-80ec-83fbc7957100",
   "metadata": {},
   "outputs": [],
   "source": [
    "url = input(\"Enter a UKEMS emissions download URL\")\n",
    "\n",
    "r = requests.get(url, verify=False, allow_redirects=True)\n",
    "filename = re.findall('filename=(.+)', r.headers.get('content-disposition'))[0]\n",
    "open(filename, 'wb').write(r.content)\n",
    "print(f'Downloaded the file {filename} ({os.path.getsize(filename)} bytes)')\n",
    "with xr.open_dataset(filename) as ds:\n",
    "    print(ds)\n"
   ]
  },
  {
   "cell_type": "markdown",
   "id": "c8113357-af16-46a9-a916-c898911ded8b",
   "metadata": {
    "tags": []
   },
   "source": [
    "### Plot a time series for a location in the downloaded data\n",
    "\n",
    "The downloaded data is for a region around central London.  The centre of London has the British National Grid coordinate: 530034,180381.  Putting a 1km box around this coordinate, will restrict the data to nearest 1km square in the data.  Its annual emissions can then be plotted."
   ]
  },
  {
   "cell_type": "code",
   "execution_count": null,
   "id": "5c515391-60e1-4f99-9663-cf27cf801753",
   "metadata": {},
   "outputs": [],
   "source": [
    "    london_x = 530034\n",
    "    london_y = 180381\n",
    "    dataForCentralLondon = ds.sel(x=slice(london_x-500,london_x+500), y=slice(london_y+500,london_y-500))\n",
    "    emissions = dataForCentralLondon['emissions_data'].data.flatten()\n",
    "    years =dataForCentralLondon['Time'].data\n",
    "\n",
    "    print('Time series for central London:')\n",
    "    plt.scatter(years, emissions)\n",
    "    plt.show()\n"
   ]
  },
  {
   "cell_type": "markdown",
   "id": "83fcf033-c0cb-40bc-843c-28b7aad0e5e3",
   "metadata": {},
   "source": [
    "### View some data"
   ]
  },
  {
   "cell_type": "code",
   "execution_count": null,
   "id": "f0f7c5c6-8fad-4b4c-bfb9-c7d2f58322b3",
   "metadata": {},
   "outputs": [],
   "source": [
    "ds.loc[dict(Time=2023)]['emissions_data'].plot()"
   ]
  }
 ],
 "metadata": {
  "kernelspec": {
   "display_name": "Python 3 (ipykernel)",
   "language": "python",
   "name": "python3"
  },
  "language_info": {
   "codemirror_mode": {
    "name": "ipython",
    "version": 3
   },
   "file_extension": ".py",
   "mimetype": "text/x-python",
   "name": "python",
   "nbconvert_exporter": "python",
   "pygments_lexer": "ipython3",
   "version": "3.10.6"
  }
 },
 "nbformat": 4,
 "nbformat_minor": 5
}
